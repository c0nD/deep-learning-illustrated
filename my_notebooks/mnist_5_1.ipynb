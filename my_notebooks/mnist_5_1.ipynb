{
 "cells": [
  {
   "cell_type": "code",
   "execution_count": 25,
   "metadata": {},
   "outputs": [],
   "source": [
    "import keras\n",
    "from keras.datasets import mnist\n",
    "from keras.models import Sequential\n",
    "from keras.layers import Dense\n",
    "from keras.optimizers import SGD\n",
    "from matplotlib import pyplot as plt"
   ]
  },
  {
   "cell_type": "code",
   "execution_count": 26,
   "metadata": {},
   "outputs": [],
   "source": [
    "(X_train, y_train), (X_valid, y_valid) = mnist.load_data()"
   ]
  },
  {
   "cell_type": "markdown",
   "metadata": {},
   "source": [
    "**the mathematical notation x is used to represent the data we’re feeding into a model as input, while y is used for the labeled output that we’re training the model to predict. With this in mind, X_train stores the MNIST digits we’ll be training our model on.**"
   ]
  },
  {
   "cell_type": "code",
   "execution_count": 27,
   "metadata": {},
   "outputs": [
    {
     "data": {
      "text/plain": [
       "(60000, 28, 28)"
      ]
     },
     "execution_count": 27,
     "metadata": {},
     "output_type": "execute_result"
    }
   ],
   "source": [
    "X_train.shape"
   ]
  },
  {
   "cell_type": "markdown",
   "metadata": {},
   "source": [
    "**we have 60,000 images in our training dataset, each of which is a 28×28 matrix of values.**"
   ]
  },
  {
   "cell_type": "code",
   "execution_count": 28,
   "metadata": {},
   "outputs": [
    {
     "data": {
      "text/plain": [
       "array([5, 0, 4, 1, 9, 2, 1, 3, 1, 4, 3, 5], dtype=uint8)"
      ]
     },
     "execution_count": 28,
     "metadata": {},
     "output_type": "execute_result"
    }
   ],
   "source": [
    "y_train.shape\n",
    "y_train[:12]"
   ]
  },
  {
   "cell_type": "code",
   "execution_count": 29,
   "metadata": {},
   "outputs": [
    {
     "data": {
      "image/png": "[encoded data removed]",
      "text/plain": [
       "<Figure size 500x500 with 12 Axes>"
      ]
     },
     "metadata": {},
     "output_type": "display_data"
    }
   ],
   "source": [
    "plt.figure(figsize=(5,5))\n",
    "for k in range(12):\n",
    "    plt.subplot(3,4,k+1)\n",
    "    plt.imshow(X_train[k], cmap='Greys')\n",
    "    plt.axis('off')\n",
    "plt.tight_layout()\n",
    "plt.show()"
   ]
  },
  {
   "cell_type": "code",
   "execution_count": 30,
   "metadata": {},
   "outputs": [
    {
     "data": {
      "text/plain": [
       "((10000, 28, 28), (10000,))"
      ]
     },
     "execution_count": 30,
     "metadata": {},
     "output_type": "execute_result"
    }
   ],
   "source": [
    "(X_valid.shape, y_valid.shape)"
   ]
  },
  {
   "cell_type": "markdown",
   "metadata": {},
   "source": [
    "**we note that there are the expected 10,000 28×28-pixel validation images**"
   ]
  },
  {
   "cell_type": "code",
   "execution_count": 31,
   "metadata": {},
   "outputs": [
    {
     "data": {
      "text/plain": [
       "<matplotlib.image.AxesImage at 0x160a3813a10>"
      ]
     },
     "execution_count": 31,
     "metadata": {},
     "output_type": "execute_result"
    },
    {
     "data": {
      "image/png": "[encoded data removed]",
      "text/plain": [
       "<Figure size 640x480 with 1 Axes>"
      ]
     },
     "metadata": {},
     "output_type": "display_data"
    }
   ],
   "source": [
    "y_valid[0]\n",
    "\n",
    "plt.imshow(X_valid[0], cmap='Greys')\n"
   ]
  },
  {
   "cell_type": "markdown",
   "metadata": {},
   "source": [
    "**We can see that the first number in the `X_valid` plots to look like a handwritten 7, as well as `yvalid` at 0 being 7**"
   ]
  },
  {
   "cell_type": "markdown",
   "metadata": {},
   "source": [
    "### Reformatting the Data\n"
   ]
  },
  {
   "cell_type": "code",
   "execution_count": 32,
   "metadata": {},
   "outputs": [
    {
     "data": {
      "text/plain": [
       "((60000, 28, 28), (10000, 28, 28))"
      ]
     },
     "execution_count": 32,
     "metadata": {},
     "output_type": "execute_result"
    }
   ],
   "source": [
    "X_train.shape, X_valid.shape"
   ]
  },
  {
   "cell_type": "code",
   "execution_count": 33,
   "metadata": {},
   "outputs": [],
   "source": [
    "# Flattening them to 1D (float to keep darkness values)\n",
    "X_train = X_train.reshape(60000, 784).astype('float32')\n",
    "X_valid = X_valid.reshape(10000, 784).astype('float32')"
   ]
  },
  {
   "cell_type": "markdown",
   "metadata": {},
   "source": [
    " **The data are initially stored as uint8, which is an unsigned integer from 0 to 255. This is more memory efficient, but it doesn’t require much precision because there are only 256 possible values. Without specifying, Python would default to a 64-bit float, which would be overkill. Thus, by specifying a 32-bit float we can deliberately specify a lower-precision float that is sufficient for this use case.**"
   ]
  },
  {
   "cell_type": "code",
   "execution_count": 34,
   "metadata": {},
   "outputs": [],
   "source": [
    "# Converting ints to floats\n",
    "X_train /= 255\n",
    "X_valid /= 255"
   ]
  },
  {
   "cell_type": "code",
   "execution_count": 35,
   "metadata": {},
   "outputs": [
    {
     "data": {
      "text/plain": [
       "array([0.        , 0.        , 0.        , 0.        , 0.        ,\n",
       "       0.        , 0.        , 0.        , 0.        , 0.        ,\n",
       "       0.        , 0.        , 0.        , 0.        , 0.        ,\n",
       "       0.        , 0.        , 0.        , 0.        , 0.        ,\n",
       "       0.        , 0.        , 0.        , 0.        , 0.        ,\n",
       "       0.        , 0.        , 0.        , 0.        , 0.        ,\n",
       "       0.        , 0.        , 0.        , 0.        , 0.        ,\n",
       "       0.        , 0.        , 0.        , 0.        , 0.        ,\n",
       "       0.        , 0.        , 0.        , 0.        , 0.        ,\n",
       "       0.        , 0.        , 0.        , 0.        , 0.        ,\n",
       "       0.        , 0.        , 0.        , 0.        , 0.        ,\n",
       "       0.        , 0.        , 0.        , 0.        , 0.        ,\n",
       "       0.        , 0.        , 0.        , 0.        , 0.        ,\n",
       "       0.        , 0.        , 0.        , 0.        , 0.        ,\n",
       "       0.        , 0.        , 0.        , 0.        , 0.        ,\n",
       "       0.        , 0.        , 0.        , 0.        , 0.        ,\n",
       "       0.        , 0.        , 0.        , 0.        , 0.        ,\n",
       "       0.        , 0.        , 0.        , 0.        , 0.        ,\n",
       "       0.        , 0.        , 0.        , 0.        , 0.        ,\n",
       "       0.        , 0.        , 0.        , 0.        , 0.        ,\n",
       "       0.        , 0.        , 0.        , 0.        , 0.        ,\n",
       "       0.        , 0.        , 0.        , 0.        , 0.        ,\n",
       "       0.        , 0.        , 0.        , 0.        , 0.        ,\n",
       "       0.        , 0.        , 0.        , 0.        , 0.        ,\n",
       "       0.        , 0.        , 0.        , 0.        , 0.        ,\n",
       "       0.        , 0.        , 0.        , 0.        , 0.        ,\n",
       "       0.        , 0.        , 0.        , 0.        , 0.        ,\n",
       "       0.        , 0.        , 0.        , 0.        , 0.        ,\n",
       "       0.        , 0.        , 0.        , 0.        , 0.        ,\n",
       "       0.        , 0.        , 0.        , 0.        , 0.        ,\n",
       "       0.        , 0.        , 0.        , 0.        , 0.        ,\n",
       "       0.        , 0.        , 0.        , 0.        , 0.        ,\n",
       "       0.        , 0.        , 0.        , 0.        , 0.        ,\n",
       "       0.        , 0.        , 0.        , 0.        , 0.        ,\n",
       "       0.        , 0.        , 0.        , 0.        , 0.        ,\n",
       "       0.        , 0.        , 0.        , 0.        , 0.        ,\n",
       "       0.        , 0.        , 0.        , 0.        , 0.        ,\n",
       "       0.        , 0.        , 0.        , 0.        , 0.        ,\n",
       "       0.        , 0.        , 0.        , 0.        , 0.        ,\n",
       "       0.        , 0.        , 0.        , 0.        , 0.        ,\n",
       "       0.        , 0.        , 0.32941177, 0.7254902 , 0.62352943,\n",
       "       0.5921569 , 0.23529412, 0.14117648, 0.        , 0.        ,\n",
       "       0.        , 0.        , 0.        , 0.        , 0.        ,\n",
       "       0.        , 0.        , 0.        , 0.        , 0.        ,\n",
       "       0.        , 0.        , 0.        , 0.        , 0.        ,\n",
       "       0.        , 0.        , 0.        , 0.        , 0.        ,\n",
       "       0.87058824, 0.99607843, 0.99607843, 0.99607843, 0.99607843,\n",
       "       0.94509804, 0.7764706 , 0.7764706 , 0.7764706 , 0.7764706 ,\n",
       "       0.7764706 , 0.7764706 , 0.7764706 , 0.7764706 , 0.6666667 ,\n",
       "       0.20392157, 0.        , 0.        , 0.        , 0.        ,\n",
       "       0.        , 0.        , 0.        , 0.        , 0.        ,\n",
       "       0.        , 0.        , 0.        , 0.2627451 , 0.44705883,\n",
       "       0.28235295, 0.44705883, 0.6392157 , 0.8901961 , 0.99607843,\n",
       "       0.88235295, 0.99607843, 0.99607843, 0.99607843, 0.98039216,\n",
       "       0.8980392 , 0.99607843, 0.99607843, 0.54901963, 0.        ,\n",
       "       0.        , 0.        , 0.        , 0.        , 0.        ,\n",
       "       0.        , 0.        , 0.        , 0.        , 0.        ,\n",
       "       0.        , 0.        , 0.        , 0.        , 0.        ,\n",
       "       0.        , 0.06666667, 0.25882354, 0.05490196, 0.2627451 ,\n",
       "       0.2627451 , 0.2627451 , 0.23137255, 0.08235294, 0.9254902 ,\n",
       "       0.99607843, 0.41568628, 0.        , 0.        , 0.        ,\n",
       "       0.        , 0.        , 0.        , 0.        , 0.        ,\n",
       "       0.        , 0.        , 0.        , 0.        , 0.        ,\n",
       "       0.        , 0.        , 0.        , 0.        , 0.        ,\n",
       "       0.        , 0.        , 0.        , 0.        , 0.        ,\n",
       "       0.        , 0.3254902 , 0.99215686, 0.81960785, 0.07058824,\n",
       "       0.        , 0.        , 0.        , 0.        , 0.        ,\n",
       "       0.        , 0.        , 0.        , 0.        , 0.        ,\n",
       "       0.        , 0.        , 0.        , 0.        , 0.        ,\n",
       "       0.        , 0.        , 0.        , 0.        , 0.        ,\n",
       "       0.        , 0.        , 0.        , 0.08627451, 0.9137255 ,\n",
       "       1.        , 0.3254902 , 0.        , 0.        , 0.        ,\n",
       "       0.        , 0.        , 0.        , 0.        , 0.        ,\n",
       "       0.        , 0.        , 0.        , 0.        , 0.        ,\n",
       "       0.        , 0.        , 0.        , 0.        , 0.        ,\n",
       "       0.        , 0.        , 0.        , 0.        , 0.        ,\n",
       "       0.        , 0.5058824 , 0.99607843, 0.93333334, 0.17254902,\n",
       "       0.        , 0.        , 0.        , 0.        , 0.        ,\n",
       "       0.        , 0.        , 0.        , 0.        , 0.        ,\n",
       "       0.        , 0.        , 0.        , 0.        , 0.        ,\n",
       "       0.        , 0.        , 0.        , 0.        , 0.        ,\n",
       "       0.        , 0.        , 0.        , 0.23137255, 0.9764706 ,\n",
       "       0.99607843, 0.24313726, 0.        , 0.        , 0.        ,\n",
       "       0.        , 0.        , 0.        , 0.        , 0.        ,\n",
       "       0.        , 0.        , 0.        , 0.        , 0.        ,\n",
       "       0.        , 0.        , 0.        , 0.        , 0.        ,\n",
       "       0.        , 0.        , 0.        , 0.        , 0.        ,\n",
       "       0.        , 0.52156866, 0.99607843, 0.73333335, 0.01960784,\n",
       "       0.        , 0.        , 0.        , 0.        , 0.        ,\n",
       "       0.        , 0.        , 0.        , 0.        , 0.        ,\n",
       "       0.        , 0.        , 0.        , 0.        , 0.        ,\n",
       "       0.        , 0.        , 0.        , 0.        , 0.        ,\n",
       "       0.        , 0.        , 0.        , 0.03529412, 0.8039216 ,\n",
       "       0.972549  , 0.22745098, 0.        , 0.        , 0.        ,\n",
       "       0.        , 0.        , 0.        , 0.        , 0.        ,\n",
       "       0.        , 0.        , 0.        , 0.        , 0.        ,\n",
       "       0.        , 0.        , 0.        , 0.        , 0.        ,\n",
       "       0.        , 0.        , 0.        , 0.        , 0.        ,\n",
       "       0.        , 0.49411765, 0.99607843, 0.7137255 , 0.        ,\n",
       "       0.        , 0.        , 0.        , 0.        , 0.        ,\n",
       "       0.        , 0.        , 0.        , 0.        , 0.        ,\n",
       "       0.        , 0.        , 0.        , 0.        , 0.        ,\n",
       "       0.        , 0.        , 0.        , 0.        , 0.        ,\n",
       "       0.        , 0.        , 0.        , 0.29411766, 0.9843137 ,\n",
       "       0.9411765 , 0.22352941, 0.        , 0.        , 0.        ,\n",
       "       0.        , 0.        , 0.        , 0.        , 0.        ,\n",
       "       0.        , 0.        , 0.        , 0.        , 0.        ,\n",
       "       0.        , 0.        , 0.        , 0.        , 0.        ,\n",
       "       0.        , 0.        , 0.        , 0.        , 0.        ,\n",
       "       0.07450981, 0.8666667 , 0.99607843, 0.6509804 , 0.        ,\n",
       "       0.        , 0.        , 0.        , 0.        , 0.        ,\n",
       "       0.        , 0.        , 0.        , 0.        , 0.        ,\n",
       "       0.        , 0.        , 0.        , 0.        , 0.        ,\n",
       "       0.        , 0.        , 0.        , 0.        , 0.        ,\n",
       "       0.        , 0.        , 0.01176471, 0.79607844, 0.99607843,\n",
       "       0.85882354, 0.13725491, 0.        , 0.        , 0.        ,\n",
       "       0.        , 0.        , 0.        , 0.        , 0.        ,\n",
       "       0.        , 0.        , 0.        , 0.        , 0.        ,\n",
       "       0.        , 0.        , 0.        , 0.        , 0.        ,\n",
       "       0.        , 0.        , 0.        , 0.        , 0.        ,\n",
       "       0.14901961, 0.99607843, 0.99607843, 0.3019608 , 0.        ,\n",
       "       0.        , 0.        , 0.        , 0.        , 0.        ,\n",
       "       0.        , 0.        , 0.        , 0.        , 0.        ,\n",
       "       0.        , 0.        , 0.        , 0.        , 0.        ,\n",
       "       0.        , 0.        , 0.        , 0.        , 0.        ,\n",
       "       0.        , 0.        , 0.12156863, 0.8784314 , 0.99607843,\n",
       "       0.4509804 , 0.00392157, 0.        , 0.        , 0.        ,\n",
       "       0.        , 0.        , 0.        , 0.        , 0.        ,\n",
       "       0.        , 0.        , 0.        , 0.        , 0.        ,\n",
       "       0.        , 0.        , 0.        , 0.        , 0.        ,\n",
       "       0.        , 0.        , 0.        , 0.        , 0.        ,\n",
       "       0.52156866, 0.99607843, 0.99607843, 0.20392157, 0.        ,\n",
       "       0.        , 0.        , 0.        , 0.        , 0.        ,\n",
       "       0.        , 0.        , 0.        , 0.        , 0.        ,\n",
       "       0.        , 0.        , 0.        , 0.        , 0.        ,\n",
       "       0.        , 0.        , 0.        , 0.        , 0.        ,\n",
       "       0.        , 0.        , 0.23921569, 0.9490196 , 0.99607843,\n",
       "       0.99607843, 0.20392157, 0.        , 0.        , 0.        ,\n",
       "       0.        , 0.        , 0.        , 0.        , 0.        ,\n",
       "       0.        , 0.        , 0.        , 0.        , 0.        ,\n",
       "       0.        , 0.        , 0.        , 0.        , 0.        ,\n",
       "       0.        , 0.        , 0.        , 0.        , 0.        ,\n",
       "       0.4745098 , 0.99607843, 0.99607843, 0.85882354, 0.15686275,\n",
       "       0.        , 0.        , 0.        , 0.        , 0.        ,\n",
       "       0.        , 0.        , 0.        , 0.        , 0.        ,\n",
       "       0.        , 0.        , 0.        , 0.        , 0.        ,\n",
       "       0.        , 0.        , 0.        , 0.        , 0.        ,\n",
       "       0.        , 0.        , 0.        , 0.4745098 , 0.99607843,\n",
       "       0.8117647 , 0.07058824, 0.        , 0.        , 0.        ,\n",
       "       0.        , 0.        , 0.        , 0.        , 0.        ,\n",
       "       0.        , 0.        , 0.        , 0.        , 0.        ,\n",
       "       0.        , 0.        , 0.        , 0.        , 0.        ,\n",
       "       0.        , 0.        , 0.        , 0.        , 0.        ,\n",
       "       0.        , 0.        , 0.        , 0.        , 0.        ,\n",
       "       0.        , 0.        , 0.        , 0.        , 0.        ,\n",
       "       0.        , 0.        , 0.        , 0.        , 0.        ,\n",
       "       0.        , 0.        , 0.        , 0.        ], dtype=float32)"
      ]
     },
     "execution_count": 35,
     "metadata": {},
     "output_type": "execute_result"
    }
   ],
   "source": [
    "X_valid[0]"
   ]
  },
  {
   "cell_type": "code",
   "execution_count": 38,
   "metadata": {},
   "outputs": [],
   "source": [
    "# Converting to one-hot encoding\n",
    "n_classes = 10\n",
    "y_train = keras.utils.to_categorical(y_train, n_classes)\n",
    "y_valid = keras.utils.to_categorical(y_valid, n_classes)"
   ]
  },
  {
   "cell_type": "markdown",
   "metadata": {},
   "source": [
    "**There are 10 possible handwritten digits, so we set n_classes equal to 10. In the other two lines of code we use a convenient utility function—to_categorical, which is provided within the Keras library—to transform both the training and the validation labels from integers into the one-hot format. Execute y_valid to see how the label seven is represented now:**"
   ]
  },
  {
   "cell_type": "code",
   "execution_count": 39,
   "metadata": {},
   "outputs": [
    {
     "data": {
      "text/plain": [
       "array([[0., 0., 0., ..., 1., 0., 0.],\n",
       "       [0., 0., 1., ..., 0., 0., 0.],\n",
       "       [0., 1., 0., ..., 0., 0., 0.],\n",
       "       ...,\n",
       "       [0., 0., 0., ..., 0., 0., 0.],\n",
       "       [0., 0., 0., ..., 0., 0., 0.],\n",
       "       [0., 0., 0., ..., 0., 0., 0.]], dtype=float32)"
      ]
     },
     "execution_count": 39,
     "metadata": {},
     "output_type": "execute_result"
    }
   ],
   "source": [
    "y_valid"
   ]
  },
  {
   "cell_type": "markdown",
   "metadata": {},
   "source": [
    "### Designing a Neural Network Architecture"
   ]
  },
  {
   "cell_type": "code",
   "execution_count": 42,
   "metadata": {},
   "outputs": [],
   "source": [
    "model = Sequential()\n",
    "model.add(Dense(64, activation='sigmoid', input_shape=(784,)))\n",
    "model.add(Dense(10, activation='softmax'))"
   ]
  },
  {
   "cell_type": "code",
   "execution_count": 45,
   "metadata": {},
   "outputs": [],
   "source": [
    "# Not in textbook, but compiling the model\n",
    "model.compile(optimizer='adam', loss='categorical_crossentropy', metrics=['accuracy'])\n"
   ]
  },
  {
   "cell_type": "markdown",
   "metadata": {},
   "source": [
    "**On the first line of code, we instantiate the simplest type of neural network model object, the Sequential type and—in a dash of extreme creativity—name the model model. In the second line, we use the add() method of our model object to specify the attributes of our network’s hidden layer (64 sigmoid-type artificial neurons in the general-purpose, fully connected arrangement defined by the Dense() method) as well as the shape of our input layer (one-dimensional array of length 784). In the third and final line we use the add() method again to specify the output layer and its parameters: 10 artificial neurons of the softmax variety, corresponding to the 10 probabilities (one for each of the 10 possible digits) that the network will output when fed a given handwritten image.**"
   ]
  },
  {
   "cell_type": "markdown",
   "metadata": {},
   "source": [
    "### Training the Model"
   ]
  },
  {
   "cell_type": "code",
   "execution_count": 46,
   "metadata": {},
   "outputs": [
    {
     "name": "stdout",
     "output_type": "stream",
     "text": [
      "Epoch 1/200\n",
      "469/469 [==============================] - 5s 7ms/step - loss: 0.7455 - accuracy: 0.8401 - val_loss: 0.3574 - val_accuracy: 0.9116\n",
      "Epoch 2/200\n",
      "469/469 [==============================] - 3s 7ms/step - loss: 0.3117 - accuracy: 0.9166 - val_loss: 0.2633 - val_accuracy: 0.9288\n",
      "Epoch 3/200\n",
      "469/469 [==============================] - 2s 4ms/step - loss: 0.2469 - accuracy: 0.9313 - val_loss: 0.2240 - val_accuracy: 0.9344\n",
      "Epoch 4/200\n",
      "469/469 [==============================] - 2s 4ms/step - loss: 0.2103 - accuracy: 0.9410 - val_loss: 0.1949 - val_accuracy: 0.9431\n",
      "Epoch 5/200\n",
      "469/469 [==============================] - 2s 4ms/step - loss: 0.1848 - accuracy: 0.9478 - val_loss: 0.1755 - val_accuracy: 0.9496\n",
      "Epoch 6/200\n",
      "469/469 [==============================] - 2s 4ms/step - loss: 0.1652 - accuracy: 0.9532 - val_loss: 0.1633 - val_accuracy: 0.9518\n",
      "Epoch 7/200\n",
      "469/469 [==============================] - 2s 4ms/step - loss: 0.1494 - accuracy: 0.9578 - val_loss: 0.1489 - val_accuracy: 0.9549\n",
      "Epoch 8/200\n",
      "469/469 [==============================] - 3s 6ms/step - loss: 0.1359 - accuracy: 0.9624 - val_loss: 0.1402 - val_accuracy: 0.9586\n",
      "Epoch 9/200\n",
      "469/469 [==============================] - 2s 4ms/step - loss: 0.1247 - accuracy: 0.9648 - val_loss: 0.1315 - val_accuracy: 0.9615\n",
      "Epoch 10/200\n",
      "469/469 [==============================] - 4s 10ms/step - loss: 0.1148 - accuracy: 0.9679 - val_loss: 0.1236 - val_accuracy: 0.9637\n",
      "Epoch 11/200\n",
      "469/469 [==============================] - 2s 4ms/step - loss: 0.1061 - accuracy: 0.9704 - val_loss: 0.1207 - val_accuracy: 0.9651\n",
      "Epoch 12/200\n",
      "469/469 [==============================] - 2s 4ms/step - loss: 0.0988 - accuracy: 0.9730 - val_loss: 0.1141 - val_accuracy: 0.9659\n",
      "Epoch 13/200\n",
      "469/469 [==============================] - 3s 7ms/step - loss: 0.0918 - accuracy: 0.9747 - val_loss: 0.1105 - val_accuracy: 0.9666\n",
      "Epoch 14/200\n",
      "469/469 [==============================] - 2s 4ms/step - loss: 0.0859 - accuracy: 0.9770 - val_loss: 0.1075 - val_accuracy: 0.9688\n",
      "Epoch 15/200\n",
      "469/469 [==============================] - 3s 7ms/step - loss: 0.0803 - accuracy: 0.9782 - val_loss: 0.1044 - val_accuracy: 0.9695\n",
      "Epoch 16/200\n",
      "469/469 [==============================] - 4s 8ms/step - loss: 0.0756 - accuracy: 0.9796 - val_loss: 0.0990 - val_accuracy: 0.9710\n",
      "Epoch 17/200\n",
      "469/469 [==============================] - 3s 6ms/step - loss: 0.0710 - accuracy: 0.9804 - val_loss: 0.0971 - val_accuracy: 0.9703\n",
      "Epoch 18/200\n",
      "469/469 [==============================] - 3s 5ms/step - loss: 0.0665 - accuracy: 0.9821 - val_loss: 0.0949 - val_accuracy: 0.9717\n",
      "Epoch 19/200\n",
      "469/469 [==============================] - 2s 5ms/step - loss: 0.0628 - accuracy: 0.9833 - val_loss: 0.0926 - val_accuracy: 0.9726\n",
      "Epoch 20/200\n",
      "469/469 [==============================] - 3s 6ms/step - loss: 0.0590 - accuracy: 0.9846 - val_loss: 0.0921 - val_accuracy: 0.9726\n",
      "Epoch 21/200\n",
      "469/469 [==============================] - 2s 5ms/step - loss: 0.0555 - accuracy: 0.9851 - val_loss: 0.0917 - val_accuracy: 0.9725\n",
      "Epoch 22/200\n",
      "469/469 [==============================] - 3s 6ms/step - loss: 0.0522 - accuracy: 0.9862 - val_loss: 0.0895 - val_accuracy: 0.9727\n",
      "Epoch 23/200\n",
      "469/469 [==============================] - 1s 3ms/step - loss: 0.0496 - accuracy: 0.9871 - val_loss: 0.0883 - val_accuracy: 0.9733\n",
      "Epoch 24/200\n",
      "469/469 [==============================] - 1s 3ms/step - loss: 0.0469 - accuracy: 0.9877 - val_loss: 0.0881 - val_accuracy: 0.9741\n",
      "Epoch 25/200\n",
      "469/469 [==============================] - 3s 5ms/step - loss: 0.0443 - accuracy: 0.9885 - val_loss: 0.0881 - val_accuracy: 0.9742\n",
      "Epoch 26/200\n",
      "469/469 [==============================] - 2s 5ms/step - loss: 0.0415 - accuracy: 0.9896 - val_loss: 0.0878 - val_accuracy: 0.9734\n",
      "Epoch 27/200\n",
      "469/469 [==============================] - 1s 3ms/step - loss: 0.0395 - accuracy: 0.9908 - val_loss: 0.0865 - val_accuracy: 0.9741\n",
      "Epoch 28/200\n",
      "469/469 [==============================] - 2s 5ms/step - loss: 0.0373 - accuracy: 0.9910 - val_loss: 0.0852 - val_accuracy: 0.9742\n",
      "Epoch 29/200\n",
      "469/469 [==============================] - 1s 3ms/step - loss: 0.0353 - accuracy: 0.9918 - val_loss: 0.0842 - val_accuracy: 0.9743\n",
      "Epoch 30/200\n",
      "469/469 [==============================] - 3s 7ms/step - loss: 0.0333 - accuracy: 0.9924 - val_loss: 0.0854 - val_accuracy: 0.9750\n",
      "Epoch 31/200\n",
      "469/469 [==============================] - 1s 3ms/step - loss: 0.0315 - accuracy: 0.9930 - val_loss: 0.0848 - val_accuracy: 0.9746\n",
      "Epoch 32/200\n",
      "469/469 [==============================] - 2s 4ms/step - loss: 0.0299 - accuracy: 0.9934 - val_loss: 0.0865 - val_accuracy: 0.9743\n",
      "Epoch 33/200\n",
      "469/469 [==============================] - 2s 4ms/step - loss: 0.0283 - accuracy: 0.9944 - val_loss: 0.0862 - val_accuracy: 0.9740\n",
      "Epoch 34/200\n",
      "469/469 [==============================] - 2s 5ms/step - loss: 0.0268 - accuracy: 0.9948 - val_loss: 0.0854 - val_accuracy: 0.9751\n",
      "Epoch 35/200\n",
      "469/469 [==============================] - 3s 6ms/step - loss: 0.0251 - accuracy: 0.9954 - val_loss: 0.0854 - val_accuracy: 0.9747\n",
      "Epoch 36/200\n",
      "469/469 [==============================] - 3s 7ms/step - loss: 0.0239 - accuracy: 0.9956 - val_loss: 0.0875 - val_accuracy: 0.9743\n",
      "Epoch 37/200\n",
      "469/469 [==============================] - 1s 3ms/step - loss: 0.0225 - accuracy: 0.9962 - val_loss: 0.0884 - val_accuracy: 0.9741\n",
      "Epoch 38/200\n",
      "469/469 [==============================] - 3s 7ms/step - loss: 0.0213 - accuracy: 0.9963 - val_loss: 0.0854 - val_accuracy: 0.9756\n",
      "Epoch 39/200\n",
      "469/469 [==============================] - 3s 7ms/step - loss: 0.0202 - accuracy: 0.9968 - val_loss: 0.0848 - val_accuracy: 0.9758\n",
      "Epoch 40/200\n",
      "469/469 [==============================] - 2s 5ms/step - loss: 0.0189 - accuracy: 0.9973 - val_loss: 0.0878 - val_accuracy: 0.9752\n",
      "Epoch 41/200\n",
      "469/469 [==============================] - 2s 3ms/step - loss: 0.0178 - accuracy: 0.9975 - val_loss: 0.0875 - val_accuracy: 0.9745\n",
      "Epoch 42/200\n",
      "469/469 [==============================] - 2s 4ms/step - loss: 0.0170 - accuracy: 0.9977 - val_loss: 0.0864 - val_accuracy: 0.9751\n",
      "Epoch 43/200\n",
      "469/469 [==============================] - 2s 4ms/step - loss: 0.0158 - accuracy: 0.9982 - val_loss: 0.0872 - val_accuracy: 0.9746\n",
      "Epoch 44/200\n",
      "469/469 [==============================] - 4s 9ms/step - loss: 0.0151 - accuracy: 0.9981 - val_loss: 0.0877 - val_accuracy: 0.9746\n",
      "Epoch 45/200\n",
      "469/469 [==============================] - 3s 6ms/step - loss: 0.0140 - accuracy: 0.9985 - val_loss: 0.0886 - val_accuracy: 0.9740\n",
      "Epoch 46/200\n",
      "469/469 [==============================] - 4s 9ms/step - loss: 0.0133 - accuracy: 0.9984 - val_loss: 0.0885 - val_accuracy: 0.9751\n",
      "Epoch 47/200\n",
      "469/469 [==============================] - 3s 6ms/step - loss: 0.0125 - accuracy: 0.9988 - val_loss: 0.0887 - val_accuracy: 0.9745\n",
      "Epoch 48/200\n",
      "469/469 [==============================] - 5s 12ms/step - loss: 0.0117 - accuracy: 0.9989 - val_loss: 0.0915 - val_accuracy: 0.9740\n",
      "Epoch 49/200\n",
      "469/469 [==============================] - 5s 11ms/step - loss: 0.0111 - accuracy: 0.9990 - val_loss: 0.0917 - val_accuracy: 0.9746\n",
      "Epoch 50/200\n",
      "469/469 [==============================] - 5s 10ms/step - loss: 0.0104 - accuracy: 0.9990 - val_loss: 0.0923 - val_accuracy: 0.9742\n",
      "Epoch 51/200\n",
      "469/469 [==============================] - 2s 5ms/step - loss: 0.0097 - accuracy: 0.9992 - val_loss: 0.0918 - val_accuracy: 0.9748\n",
      "Epoch 52/200\n",
      "469/469 [==============================] - 3s 6ms/step - loss: 0.0092 - accuracy: 0.9992 - val_loss: 0.0932 - val_accuracy: 0.9758\n",
      "Epoch 53/200\n",
      "469/469 [==============================] - 4s 8ms/step - loss: 0.0085 - accuracy: 0.9993 - val_loss: 0.0934 - val_accuracy: 0.9742\n",
      "Epoch 54/200\n",
      "469/469 [==============================] - 4s 8ms/step - loss: 0.0081 - accuracy: 0.9995 - val_loss: 0.0948 - val_accuracy: 0.9757\n",
      "Epoch 55/200\n",
      "469/469 [==============================] - 4s 8ms/step - loss: 0.0075 - accuracy: 0.9995 - val_loss: 0.0939 - val_accuracy: 0.9748\n",
      "Epoch 56/200\n",
      "469/469 [==============================] - 4s 8ms/step - loss: 0.0070 - accuracy: 0.9995 - val_loss: 0.0967 - val_accuracy: 0.9739\n",
      "Epoch 57/200\n",
      "469/469 [==============================] - 2s 5ms/step - loss: 0.0068 - accuracy: 0.9996 - val_loss: 0.0976 - val_accuracy: 0.9740\n",
      "Epoch 58/200\n",
      "469/469 [==============================] - 3s 6ms/step - loss: 0.0062 - accuracy: 0.9997 - val_loss: 0.0966 - val_accuracy: 0.9746\n",
      "Epoch 59/200\n",
      "469/469 [==============================] - 2s 5ms/step - loss: 0.0057 - accuracy: 0.9997 - val_loss: 0.0991 - val_accuracy: 0.9746\n",
      "Epoch 60/200\n",
      "469/469 [==============================] - 2s 5ms/step - loss: 0.0054 - accuracy: 0.9998 - val_loss: 0.1006 - val_accuracy: 0.9737\n",
      "Epoch 61/200\n",
      "469/469 [==============================] - 3s 6ms/step - loss: 0.0050 - accuracy: 0.9998 - val_loss: 0.0986 - val_accuracy: 0.9744\n",
      "Epoch 62/200\n",
      "469/469 [==============================] - 2s 5ms/step - loss: 0.0047 - accuracy: 0.9998 - val_loss: 0.1002 - val_accuracy: 0.9751\n",
      "Epoch 63/200\n",
      "469/469 [==============================] - 4s 8ms/step - loss: 0.0044 - accuracy: 0.9999 - val_loss: 0.1011 - val_accuracy: 0.9744\n",
      "Epoch 64/200\n",
      "469/469 [==============================] - 2s 5ms/step - loss: 0.0041 - accuracy: 0.9999 - val_loss: 0.1020 - val_accuracy: 0.9735\n",
      "Epoch 65/200\n",
      "469/469 [==============================] - 2s 5ms/step - loss: 0.0038 - accuracy: 0.9999 - val_loss: 0.1052 - val_accuracy: 0.9739\n",
      "Epoch 66/200\n",
      "469/469 [==============================] - 2s 5ms/step - loss: 0.0036 - accuracy: 1.0000 - val_loss: 0.1044 - val_accuracy: 0.9743\n",
      "Epoch 67/200\n",
      "469/469 [==============================] - 2s 5ms/step - loss: 0.0033 - accuracy: 0.9999 - val_loss: 0.1046 - val_accuracy: 0.9741\n",
      "Epoch 68/200\n",
      "469/469 [==============================] - 3s 6ms/step - loss: 0.0031 - accuracy: 0.9999 - val_loss: 0.1038 - val_accuracy: 0.9746\n",
      "Epoch 69/200\n",
      "469/469 [==============================] - 2s 5ms/step - loss: 0.0029 - accuracy: 0.9999 - val_loss: 0.1058 - val_accuracy: 0.9733\n",
      "Epoch 70/200\n",
      "469/469 [==============================] - 3s 7ms/step - loss: 0.0027 - accuracy: 1.0000 - val_loss: 0.1080 - val_accuracy: 0.9735\n",
      "Epoch 71/200\n",
      "469/469 [==============================] - 4s 8ms/step - loss: 0.0025 - accuracy: 1.0000 - val_loss: 0.1124 - val_accuracy: 0.9730\n",
      "Epoch 72/200\n",
      "469/469 [==============================] - 5s 11ms/step - loss: 0.0023 - accuracy: 1.0000 - val_loss: 0.1083 - val_accuracy: 0.9741\n",
      "Epoch 73/200\n",
      "469/469 [==============================] - 4s 8ms/step - loss: 0.0022 - accuracy: 1.0000 - val_loss: 0.1081 - val_accuracy: 0.9747\n",
      "Epoch 74/200\n",
      "469/469 [==============================] - 5s 10ms/step - loss: 0.0020 - accuracy: 1.0000 - val_loss: 0.1124 - val_accuracy: 0.9739\n",
      "Epoch 75/200\n",
      "469/469 [==============================] - 3s 7ms/step - loss: 0.0019 - accuracy: 1.0000 - val_loss: 0.1113 - val_accuracy: 0.9736\n",
      "Epoch 76/200\n",
      "469/469 [==============================] - 3s 6ms/step - loss: 0.0017 - accuracy: 1.0000 - val_loss: 0.1148 - val_accuracy: 0.9733\n",
      "Epoch 77/200\n",
      "469/469 [==============================] - 4s 8ms/step - loss: 0.0016 - accuracy: 1.0000 - val_loss: 0.1127 - val_accuracy: 0.9736\n",
      "Epoch 78/200\n",
      "469/469 [==============================] - 2s 5ms/step - loss: 0.0016 - accuracy: 0.9999 - val_loss: 0.1159 - val_accuracy: 0.9751\n",
      "Epoch 79/200\n",
      "469/469 [==============================] - 4s 8ms/step - loss: 0.0014 - accuracy: 1.0000 - val_loss: 0.1157 - val_accuracy: 0.9742\n",
      "Epoch 80/200\n",
      "469/469 [==============================] - 3s 6ms/step - loss: 0.0013 - accuracy: 1.0000 - val_loss: 0.1181 - val_accuracy: 0.9736\n",
      "Epoch 81/200\n",
      "469/469 [==============================] - 3s 6ms/step - loss: 0.0012 - accuracy: 1.0000 - val_loss: 0.1182 - val_accuracy: 0.9740\n",
      "Epoch 82/200\n",
      "469/469 [==============================] - 3s 6ms/step - loss: 0.0012 - accuracy: 1.0000 - val_loss: 0.1198 - val_accuracy: 0.9732\n",
      "Epoch 83/200\n",
      "469/469 [==============================] - 3s 6ms/step - loss: 0.0011 - accuracy: 1.0000 - val_loss: 0.1189 - val_accuracy: 0.9738\n",
      "Epoch 84/200\n",
      "469/469 [==============================] - 2s 4ms/step - loss: 9.6583e-04 - accuracy: 1.0000 - val_loss: 0.1207 - val_accuracy: 0.9743\n",
      "Epoch 85/200\n",
      "469/469 [==============================] - 2s 5ms/step - loss: 9.1528e-04 - accuracy: 1.0000 - val_loss: 0.1220 - val_accuracy: 0.9740\n",
      "Epoch 86/200\n",
      "469/469 [==============================] - 2s 4ms/step - loss: 8.6067e-04 - accuracy: 1.0000 - val_loss: 0.1234 - val_accuracy: 0.9735\n",
      "Epoch 87/200\n",
      "469/469 [==============================] - 2s 4ms/step - loss: 7.6622e-04 - accuracy: 1.0000 - val_loss: 0.1235 - val_accuracy: 0.9749\n",
      "Epoch 88/200\n",
      "469/469 [==============================] - 2s 5ms/step - loss: 7.0896e-04 - accuracy: 1.0000 - val_loss: 0.1273 - val_accuracy: 0.9739\n",
      "Epoch 89/200\n",
      "469/469 [==============================] - 1s 3ms/step - loss: 6.5530e-04 - accuracy: 1.0000 - val_loss: 0.1272 - val_accuracy: 0.9740\n",
      "Epoch 90/200\n",
      "469/469 [==============================] - 2s 4ms/step - loss: 6.3670e-04 - accuracy: 1.0000 - val_loss: 0.1266 - val_accuracy: 0.9738\n",
      "Epoch 91/200\n",
      "469/469 [==============================] - 3s 6ms/step - loss: 6.1558e-04 - accuracy: 1.0000 - val_loss: 0.1295 - val_accuracy: 0.9734\n",
      "Epoch 92/200\n",
      "469/469 [==============================] - 3s 5ms/step - loss: 5.7274e-04 - accuracy: 1.0000 - val_loss: 0.1295 - val_accuracy: 0.9738\n",
      "Epoch 93/200\n",
      "469/469 [==============================] - 3s 6ms/step - loss: 4.7576e-04 - accuracy: 1.0000 - val_loss: 0.1317 - val_accuracy: 0.9740\n",
      "Epoch 94/200\n",
      "469/469 [==============================] - 2s 3ms/step - loss: 4.3461e-04 - accuracy: 1.0000 - val_loss: 0.1326 - val_accuracy: 0.9747\n",
      "Epoch 95/200\n",
      "469/469 [==============================] - 3s 7ms/step - loss: 4.3537e-04 - accuracy: 1.0000 - val_loss: 0.1316 - val_accuracy: 0.9735\n",
      "Epoch 96/200\n",
      "469/469 [==============================] - 2s 4ms/step - loss: 4.1426e-04 - accuracy: 1.0000 - val_loss: 0.1392 - val_accuracy: 0.9729\n",
      "Epoch 97/200\n",
      "469/469 [==============================] - 4s 8ms/step - loss: 3.6027e-04 - accuracy: 1.0000 - val_loss: 0.1382 - val_accuracy: 0.9738\n",
      "Epoch 98/200\n",
      "469/469 [==============================] - 2s 4ms/step - loss: 3.2956e-04 - accuracy: 1.0000 - val_loss: 0.1364 - val_accuracy: 0.9732\n",
      "Epoch 99/200\n",
      "469/469 [==============================] - 2s 4ms/step - loss: 3.0963e-04 - accuracy: 1.0000 - val_loss: 0.1357 - val_accuracy: 0.9737\n",
      "Epoch 100/200\n",
      "469/469 [==============================] - 2s 4ms/step - loss: 2.8693e-04 - accuracy: 1.0000 - val_loss: 0.1390 - val_accuracy: 0.9742\n",
      "Epoch 101/200\n",
      "469/469 [==============================] - 2s 3ms/step - loss: 2.9578e-04 - accuracy: 1.0000 - val_loss: 0.1405 - val_accuracy: 0.9734\n",
      "Epoch 102/200\n",
      "469/469 [==============================] - 2s 5ms/step - loss: 2.6629e-04 - accuracy: 1.0000 - val_loss: 0.1409 - val_accuracy: 0.9737\n",
      "Epoch 103/200\n",
      "469/469 [==============================] - 2s 5ms/step - loss: 2.2107e-04 - accuracy: 1.0000 - val_loss: 0.1426 - val_accuracy: 0.9734\n",
      "Epoch 104/200\n",
      "469/469 [==============================] - 2s 5ms/step - loss: 2.0362e-04 - accuracy: 1.0000 - val_loss: 0.1429 - val_accuracy: 0.9734\n",
      "Epoch 105/200\n",
      "469/469 [==============================] - 2s 4ms/step - loss: 1.8822e-04 - accuracy: 1.0000 - val_loss: 0.1436 - val_accuracy: 0.9733\n",
      "Epoch 106/200\n",
      "469/469 [==============================] - 2s 4ms/step - loss: 1.7655e-04 - accuracy: 1.0000 - val_loss: 0.1464 - val_accuracy: 0.9736\n",
      "Epoch 107/200\n",
      "469/469 [==============================] - 2s 4ms/step - loss: 1.6315e-04 - accuracy: 1.0000 - val_loss: 0.1477 - val_accuracy: 0.9728\n",
      "Epoch 108/200\n",
      "469/469 [==============================] - 2s 3ms/step - loss: 1.7775e-04 - accuracy: 1.0000 - val_loss: 0.1491 - val_accuracy: 0.9735\n",
      "Epoch 109/200\n",
      "469/469 [==============================] - 2s 3ms/step - loss: 1.5348e-04 - accuracy: 1.0000 - val_loss: 0.1487 - val_accuracy: 0.9741\n",
      "Epoch 110/200\n",
      "469/469 [==============================] - 3s 6ms/step - loss: 1.3425e-04 - accuracy: 1.0000 - val_loss: 0.1498 - val_accuracy: 0.9739\n",
      "Epoch 111/200\n",
      "469/469 [==============================] - 2s 4ms/step - loss: 1.1572e-04 - accuracy: 1.0000 - val_loss: 0.1516 - val_accuracy: 0.9736\n",
      "Epoch 112/200\n",
      "469/469 [==============================] - 2s 4ms/step - loss: 1.1030e-04 - accuracy: 1.0000 - val_loss: 0.1525 - val_accuracy: 0.9745\n",
      "Epoch 113/200\n",
      "469/469 [==============================] - 2s 4ms/step - loss: 1.0709e-04 - accuracy: 1.0000 - val_loss: 0.1535 - val_accuracy: 0.9740\n",
      "Epoch 114/200\n",
      "469/469 [==============================] - 2s 5ms/step - loss: 9.7106e-05 - accuracy: 1.0000 - val_loss: 0.1552 - val_accuracy: 0.9738\n",
      "Epoch 115/200\n",
      "469/469 [==============================] - 2s 5ms/step - loss: 8.5412e-05 - accuracy: 1.0000 - val_loss: 0.1569 - val_accuracy: 0.9735\n",
      "Epoch 116/200\n",
      "469/469 [==============================] - 2s 4ms/step - loss: 8.9400e-05 - accuracy: 1.0000 - val_loss: 0.1563 - val_accuracy: 0.9742\n",
      "Epoch 117/200\n",
      "469/469 [==============================] - 2s 4ms/step - loss: 7.5962e-05 - accuracy: 1.0000 - val_loss: 0.1568 - val_accuracy: 0.9736\n",
      "Epoch 118/200\n",
      "469/469 [==============================] - 3s 6ms/step - loss: 7.1511e-05 - accuracy: 1.0000 - val_loss: 0.1615 - val_accuracy: 0.9733\n",
      "Epoch 119/200\n",
      "469/469 [==============================] - 3s 7ms/step - loss: 9.3081e-04 - accuracy: 0.9998 - val_loss: 0.1634 - val_accuracy: 0.9720\n",
      "Epoch 120/200\n",
      "469/469 [==============================] - 1s 3ms/step - loss: 1.9550e-04 - accuracy: 1.0000 - val_loss: 0.1612 - val_accuracy: 0.9734\n",
      "Epoch 121/200\n",
      "469/469 [==============================] - 2s 3ms/step - loss: 8.6763e-05 - accuracy: 1.0000 - val_loss: 0.1601 - val_accuracy: 0.9737\n",
      "Epoch 122/200\n",
      "469/469 [==============================] - 2s 4ms/step - loss: 7.4617e-05 - accuracy: 1.0000 - val_loss: 0.1603 - val_accuracy: 0.9740\n",
      "Epoch 123/200\n",
      "469/469 [==============================] - 2s 5ms/step - loss: 6.7498e-05 - accuracy: 1.0000 - val_loss: 0.1595 - val_accuracy: 0.9737\n",
      "Epoch 124/200\n",
      "469/469 [==============================] - 3s 6ms/step - loss: 6.2415e-05 - accuracy: 1.0000 - val_loss: 0.1601 - val_accuracy: 0.9738\n",
      "Epoch 125/200\n",
      "469/469 [==============================] - 2s 3ms/step - loss: 5.7919e-05 - accuracy: 1.0000 - val_loss: 0.1609 - val_accuracy: 0.9736\n",
      "Epoch 126/200\n",
      "469/469 [==============================] - 3s 7ms/step - loss: 5.4646e-05 - accuracy: 1.0000 - val_loss: 0.1606 - val_accuracy: 0.9741\n",
      "Epoch 127/200\n",
      "469/469 [==============================] - 2s 4ms/step - loss: 5.1510e-05 - accuracy: 1.0000 - val_loss: 0.1608 - val_accuracy: 0.9743\n",
      "Epoch 128/200\n",
      "469/469 [==============================] - 2s 4ms/step - loss: 4.8935e-05 - accuracy: 1.0000 - val_loss: 0.1611 - val_accuracy: 0.9740\n",
      "Epoch 129/200\n",
      "469/469 [==============================] - 2s 4ms/step - loss: 4.6911e-05 - accuracy: 1.0000 - val_loss: 0.1619 - val_accuracy: 0.9742\n",
      "Epoch 130/200\n",
      "469/469 [==============================] - 2s 4ms/step - loss: 4.4841e-05 - accuracy: 1.0000 - val_loss: 0.1633 - val_accuracy: 0.9741\n",
      "Epoch 131/200\n",
      "469/469 [==============================] - 2s 3ms/step - loss: 4.2965e-05 - accuracy: 1.0000 - val_loss: 0.1645 - val_accuracy: 0.9736\n",
      "Epoch 132/200\n",
      "469/469 [==============================] - 2s 5ms/step - loss: 4.1343e-05 - accuracy: 1.0000 - val_loss: 0.1636 - val_accuracy: 0.9741\n",
      "Epoch 133/200\n",
      "469/469 [==============================] - 3s 7ms/step - loss: 4.0510e-05 - accuracy: 1.0000 - val_loss: 0.1656 - val_accuracy: 0.9738\n",
      "Epoch 134/200\n",
      "469/469 [==============================] - 2s 4ms/step - loss: 3.7737e-05 - accuracy: 1.0000 - val_loss: 0.1653 - val_accuracy: 0.9738\n",
      "Epoch 135/200\n",
      "469/469 [==============================] - 2s 4ms/step - loss: 3.5848e-05 - accuracy: 1.0000 - val_loss: 0.1677 - val_accuracy: 0.9731\n",
      "Epoch 136/200\n",
      "469/469 [==============================] - 3s 6ms/step - loss: 3.4697e-05 - accuracy: 1.0000 - val_loss: 0.1680 - val_accuracy: 0.9733\n",
      "Epoch 137/200\n",
      "469/469 [==============================] - 2s 4ms/step - loss: 3.2883e-05 - accuracy: 1.0000 - val_loss: 0.1700 - val_accuracy: 0.9737\n",
      "Epoch 138/200\n",
      "469/469 [==============================] - 2s 4ms/step - loss: 3.0267e-05 - accuracy: 1.0000 - val_loss: 0.1705 - val_accuracy: 0.9734\n",
      "Epoch 139/200\n",
      "469/469 [==============================] - 2s 5ms/step - loss: 2.9931e-05 - accuracy: 1.0000 - val_loss: 0.1714 - val_accuracy: 0.9740\n",
      "Epoch 140/200\n",
      "469/469 [==============================] - 2s 4ms/step - loss: 2.7545e-05 - accuracy: 1.0000 - val_loss: 0.1745 - val_accuracy: 0.9734\n",
      "Epoch 141/200\n",
      "469/469 [==============================] - 3s 6ms/step - loss: 2.5552e-05 - accuracy: 1.0000 - val_loss: 0.1755 - val_accuracy: 0.9742\n",
      "Epoch 142/200\n",
      "469/469 [==============================] - 2s 4ms/step - loss: 2.2832e-05 - accuracy: 1.0000 - val_loss: 0.1777 - val_accuracy: 0.9732\n",
      "Epoch 143/200\n",
      "469/469 [==============================] - 2s 4ms/step - loss: 1.9994e-05 - accuracy: 1.0000 - val_loss: 0.1795 - val_accuracy: 0.9731\n",
      "Epoch 144/200\n",
      "469/469 [==============================] - 2s 4ms/step - loss: 1.8960e-05 - accuracy: 1.0000 - val_loss: 0.1786 - val_accuracy: 0.9730\n",
      "Epoch 145/200\n",
      "469/469 [==============================] - 2s 4ms/step - loss: 0.0014 - accuracy: 0.9996 - val_loss: 0.1875 - val_accuracy: 0.9719\n",
      "Epoch 146/200\n",
      "469/469 [==============================] - 3s 6ms/step - loss: 7.4001e-05 - accuracy: 1.0000 - val_loss: 0.1816 - val_accuracy: 0.9728\n",
      "Epoch 147/200\n",
      "469/469 [==============================] - 2s 4ms/step - loss: 4.0107e-05 - accuracy: 1.0000 - val_loss: 0.1806 - val_accuracy: 0.9728\n",
      "Epoch 148/200\n",
      "469/469 [==============================] - 2s 3ms/step - loss: 3.3349e-05 - accuracy: 1.0000 - val_loss: 0.1798 - val_accuracy: 0.9729\n",
      "Epoch 149/200\n",
      "469/469 [==============================] - 3s 7ms/step - loss: 2.9449e-05 - accuracy: 1.0000 - val_loss: 0.1793 - val_accuracy: 0.9731\n",
      "Epoch 150/200\n",
      "469/469 [==============================] - 3s 7ms/step - loss: 2.6553e-05 - accuracy: 1.0000 - val_loss: 0.1788 - val_accuracy: 0.9728\n",
      "Epoch 151/200\n",
      "469/469 [==============================] - 3s 5ms/step - loss: 2.4329e-05 - accuracy: 1.0000 - val_loss: 0.1787 - val_accuracy: 0.9730\n",
      "Epoch 152/200\n",
      "469/469 [==============================] - 2s 4ms/step - loss: 2.2432e-05 - accuracy: 1.0000 - val_loss: 0.1779 - val_accuracy: 0.9732\n",
      "Epoch 153/200\n",
      "469/469 [==============================] - 3s 7ms/step - loss: 2.0856e-05 - accuracy: 1.0000 - val_loss: 0.1784 - val_accuracy: 0.9733\n",
      "Epoch 154/200\n",
      "469/469 [==============================] - 2s 4ms/step - loss: 1.9475e-05 - accuracy: 1.0000 - val_loss: 0.1784 - val_accuracy: 0.9736\n",
      "Epoch 155/200\n",
      "469/469 [==============================] - 2s 5ms/step - loss: 1.8352e-05 - accuracy: 1.0000 - val_loss: 0.1783 - val_accuracy: 0.9737\n",
      "Epoch 156/200\n",
      "469/469 [==============================] - 3s 7ms/step - loss: 1.7254e-05 - accuracy: 1.0000 - val_loss: 0.1784 - val_accuracy: 0.9739\n",
      "Epoch 157/200\n",
      "469/469 [==============================] - 3s 7ms/step - loss: 1.6401e-05 - accuracy: 1.0000 - val_loss: 0.1787 - val_accuracy: 0.9739\n",
      "Epoch 158/200\n",
      "469/469 [==============================] - 2s 5ms/step - loss: 1.5564e-05 - accuracy: 1.0000 - val_loss: 0.1789 - val_accuracy: 0.9740\n",
      "Epoch 159/200\n",
      "469/469 [==============================] - 2s 5ms/step - loss: 1.4793e-05 - accuracy: 1.0000 - val_loss: 0.1794 - val_accuracy: 0.9742\n",
      "Epoch 160/200\n",
      "469/469 [==============================] - 2s 5ms/step - loss: 1.4136e-05 - accuracy: 1.0000 - val_loss: 0.1793 - val_accuracy: 0.9743\n",
      "Epoch 161/200\n",
      "469/469 [==============================] - 4s 9ms/step - loss: 1.3485e-05 - accuracy: 1.0000 - val_loss: 0.1804 - val_accuracy: 0.9739\n",
      "Epoch 162/200\n",
      "469/469 [==============================] - 2s 5ms/step - loss: 1.2887e-05 - accuracy: 1.0000 - val_loss: 0.1796 - val_accuracy: 0.9741\n",
      "Epoch 163/200\n",
      "469/469 [==============================] - 2s 5ms/step - loss: 1.2349e-05 - accuracy: 1.0000 - val_loss: 0.1807 - val_accuracy: 0.9743\n",
      "Epoch 164/200\n",
      "469/469 [==============================] - 2s 3ms/step - loss: 1.1868e-05 - accuracy: 1.0000 - val_loss: 0.1818 - val_accuracy: 0.9736\n",
      "Epoch 165/200\n",
      "469/469 [==============================] - 2s 3ms/step - loss: 1.1195e-05 - accuracy: 1.0000 - val_loss: 0.1832 - val_accuracy: 0.9738\n",
      "Epoch 166/200\n",
      "469/469 [==============================] - 2s 4ms/step - loss: 1.0829e-05 - accuracy: 1.0000 - val_loss: 0.1825 - val_accuracy: 0.9742\n",
      "Epoch 167/200\n",
      "469/469 [==============================] - 2s 4ms/step - loss: 1.0264e-05 - accuracy: 1.0000 - val_loss: 0.1853 - val_accuracy: 0.9737\n",
      "Epoch 168/200\n",
      "469/469 [==============================] - 4s 8ms/step - loss: 9.7596e-06 - accuracy: 1.0000 - val_loss: 0.1866 - val_accuracy: 0.9734\n",
      "Epoch 169/200\n",
      "469/469 [==============================] - 3s 7ms/step - loss: 9.3847e-06 - accuracy: 1.0000 - val_loss: 0.1871 - val_accuracy: 0.9733\n",
      "Epoch 170/200\n",
      "469/469 [==============================] - 2s 3ms/step - loss: 8.7465e-06 - accuracy: 1.0000 - val_loss: 0.1880 - val_accuracy: 0.9735\n",
      "Epoch 171/200\n",
      "469/469 [==============================] - 3s 7ms/step - loss: 8.0591e-06 - accuracy: 1.0000 - val_loss: 0.1901 - val_accuracy: 0.9733\n",
      "Epoch 172/200\n",
      "469/469 [==============================] - 2s 5ms/step - loss: 7.6781e-04 - accuracy: 0.9998 - val_loss: 0.2091 - val_accuracy: 0.9700\n",
      "Epoch 173/200\n",
      "469/469 [==============================] - 1s 3ms/step - loss: 1.5413e-04 - accuracy: 1.0000 - val_loss: 0.1961 - val_accuracy: 0.9716\n",
      "Epoch 174/200\n",
      "469/469 [==============================] - 2s 4ms/step - loss: 2.2108e-05 - accuracy: 1.0000 - val_loss: 0.1952 - val_accuracy: 0.9721\n",
      "Epoch 175/200\n",
      "469/469 [==============================] - 1s 3ms/step - loss: 1.7138e-05 - accuracy: 1.0000 - val_loss: 0.1943 - val_accuracy: 0.9722\n",
      "Epoch 176/200\n",
      "469/469 [==============================] - 1s 3ms/step - loss: 1.4932e-05 - accuracy: 1.0000 - val_loss: 0.1943 - val_accuracy: 0.9722\n",
      "Epoch 177/200\n",
      "469/469 [==============================] - 2s 3ms/step - loss: 1.3422e-05 - accuracy: 1.0000 - val_loss: 0.1941 - val_accuracy: 0.9726\n",
      "Epoch 178/200\n",
      "469/469 [==============================] - 2s 3ms/step - loss: 1.2221e-05 - accuracy: 1.0000 - val_loss: 0.1943 - val_accuracy: 0.9728\n",
      "Epoch 179/200\n",
      "469/469 [==============================] - 2s 4ms/step - loss: 1.1230e-05 - accuracy: 1.0000 - val_loss: 0.1938 - val_accuracy: 0.9728\n",
      "Epoch 180/200\n",
      "469/469 [==============================] - 1s 3ms/step - loss: 1.0396e-05 - accuracy: 1.0000 - val_loss: 0.1939 - val_accuracy: 0.9730\n",
      "Epoch 181/200\n",
      "469/469 [==============================] - 2s 5ms/step - loss: 9.6606e-06 - accuracy: 1.0000 - val_loss: 0.1940 - val_accuracy: 0.9732\n",
      "Epoch 182/200\n",
      "469/469 [==============================] - 3s 7ms/step - loss: 9.0415e-06 - accuracy: 1.0000 - val_loss: 0.1942 - val_accuracy: 0.9732\n",
      "Epoch 183/200\n",
      "469/469 [==============================] - 4s 9ms/step - loss: 8.4829e-06 - accuracy: 1.0000 - val_loss: 0.1940 - val_accuracy: 0.9731\n",
      "Epoch 184/200\n",
      "469/469 [==============================] - 2s 4ms/step - loss: 7.9972e-06 - accuracy: 1.0000 - val_loss: 0.1945 - val_accuracy: 0.9731\n",
      "Epoch 185/200\n",
      "469/469 [==============================] - 3s 6ms/step - loss: 7.5562e-06 - accuracy: 1.0000 - val_loss: 0.1940 - val_accuracy: 0.9727\n",
      "Epoch 186/200\n",
      "469/469 [==============================] - 3s 7ms/step - loss: 7.1569e-06 - accuracy: 1.0000 - val_loss: 0.1941 - val_accuracy: 0.9726\n",
      "Epoch 187/200\n",
      "469/469 [==============================] - 2s 4ms/step - loss: 6.7876e-06 - accuracy: 1.0000 - val_loss: 0.1943 - val_accuracy: 0.9731\n",
      "Epoch 188/200\n",
      "469/469 [==============================] - 3s 6ms/step - loss: 6.4645e-06 - accuracy: 1.0000 - val_loss: 0.1947 - val_accuracy: 0.9730\n",
      "Epoch 189/200\n",
      "469/469 [==============================] - 4s 8ms/step - loss: 6.1616e-06 - accuracy: 1.0000 - val_loss: 0.1947 - val_accuracy: 0.9730\n",
      "Epoch 190/200\n",
      "469/469 [==============================] - 1s 3ms/step - loss: 5.8581e-06 - accuracy: 1.0000 - val_loss: 0.1951 - val_accuracy: 0.9730\n",
      "Epoch 191/200\n",
      "469/469 [==============================] - 3s 5ms/step - loss: 5.6037e-06 - accuracy: 1.0000 - val_loss: 0.1957 - val_accuracy: 0.9729\n",
      "Epoch 192/200\n",
      "469/469 [==============================] - 4s 8ms/step - loss: 5.3609e-06 - accuracy: 1.0000 - val_loss: 0.1970 - val_accuracy: 0.9733\n",
      "Epoch 193/200\n",
      "469/469 [==============================] - 2s 4ms/step - loss: 5.1037e-06 - accuracy: 1.0000 - val_loss: 0.1959 - val_accuracy: 0.9733\n",
      "Epoch 194/200\n",
      "469/469 [==============================] - 3s 6ms/step - loss: 4.8935e-06 - accuracy: 1.0000 - val_loss: 0.1969 - val_accuracy: 0.9731\n",
      "Epoch 195/200\n",
      "469/469 [==============================] - 2s 5ms/step - loss: 4.7054e-06 - accuracy: 1.0000 - val_loss: 0.1992 - val_accuracy: 0.9732\n",
      "Epoch 196/200\n",
      "469/469 [==============================] - 3s 7ms/step - loss: 4.4170e-06 - accuracy: 1.0000 - val_loss: 0.2007 - val_accuracy: 0.9726\n",
      "Epoch 197/200\n",
      "469/469 [==============================] - 2s 5ms/step - loss: 4.2585e-06 - accuracy: 1.0000 - val_loss: 0.2027 - val_accuracy: 0.9731\n",
      "Epoch 198/200\n",
      "469/469 [==============================] - 4s 8ms/step - loss: 3.9938e-06 - accuracy: 1.0000 - val_loss: 0.1998 - val_accuracy: 0.9732\n",
      "Epoch 199/200\n",
      "469/469 [==============================] - 3s 6ms/step - loss: 3.9975e-06 - accuracy: 1.0000 - val_loss: 0.2045 - val_accuracy: 0.9733\n",
      "Epoch 200/200\n",
      "469/469 [==============================] - 4s 9ms/step - loss: 3.7348e-06 - accuracy: 1.0000 - val_loss: 0.2042 - val_accuracy: 0.9731\n"
     ]
    },
    {
     "data": {
      "text/plain": [
       "<keras.src.callbacks.History at 0x160a2a06ed0>"
      ]
     },
     "execution_count": 46,
     "metadata": {},
     "output_type": "execute_result"
    }
   ],
   "source": [
    "model.fit(X_train, y_train,\n",
    "          batch_size=128, epochs=200,\n",
    "          verbose=1,\n",
    "          validation_data=(X_valid, y_valid))"
   ]
  },
  {
   "cell_type": "markdown",
   "metadata": {},
   "source": [
    "**The critical aspects are:**\n",
    "\n",
    "1. The fit() method of our model object enables us to train our artificial neural network with the training images X_train as inputs and their associated labels y_train as the desired outputs.\n",
    "\n",
    "2. As the network trains, the fit() method also provides us with the option to evaluate the performance of our network by passing our validation data X_valid and y_valid into the validation_data argument.\n",
    "\n",
    "3. With machine learning, and especially with deep learning, it is commonplace to train our model on the same data multiple times. One pass through all of our training data (60,000 images in the current case) is called one epoch of training. By setting the epochs parameter to 200, we cycle through all 60,000 training images 200 separate times.\n",
    "\n",
    "4. By setting verbose to 1, the model.fit() method will provide us with plenty of feedback as we train. At the moment, we’ll focus on the val_acc statistic that is output following each epoch of training. Validation accuracy is the proportion of the 10,000 handwritten images in X_valid in which the network’s highest probability in the output layer corresponds to the correct digit as per the labels in y_valid.\n",
    "\n",
    "**Given that there are 10 classes of handwritten digits, we’d expect a random process to guess 10 percent of the digits, but after 200 epochs of training, it can predict them correctly at a 97% success rate because we constructed an uninvolved, shallow neural-network architecture!**"
   ]
  }
 ],
 "metadata": {
  "kernelspec": {
   "display_name": "Python 3",
   "language": "python",
   "name": "python3"
  },
  "language_info": {
   "codemirror_mode": {
    "name": "ipython",
    "version": 3
   },
   "file_extension": ".py",
   "mimetype": "text/x-python",
   "name": "python",
   "nbconvert_exporter": "python",
   "pygments_lexer": "ipython3",
   "version": "3.11.0"
  },
  "orig_nbformat": 4
 },
 "nbformat": 4,
 "nbformat_minor": 2
}
